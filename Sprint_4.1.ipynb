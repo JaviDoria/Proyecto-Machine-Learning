{
 "cells": [
  {
   "cell_type": "markdown",
   "id": "6f3419d1-5022-48b3-8466-7df383596b78",
   "metadata": {},
   "source": [
    "# Ejecrcicio 1 (Consumir una API)"
   ]
  },
  {
   "cell_type": "markdown",
   "id": "707a4254-2bca-424b-8b47-9967dd60ba4a",
   "metadata": {},
   "source": [
    "Para este ejercicio utilizaré https://pokeapi.co/ que es una API gratuita que encontré donde no hace falta registrarse , esla API contiene datos sobre Pokemons .  \n",
    "- Primero instalo la libreria requests que es una librería para poder consumir API's entre otras cosas.  \n",
    "- Importo requests.  \n",
    "- Ejecuto el código donde para hacerlo un poco más interactivo le doy un input al usuario para que escoja entre dos Pokemons para que muestre los datos que la API tiene de ellos.  \n",
    "- Con un bloque IF filtro el resultado de la opción que haya dado el usuario para posteriomente imprimir un mensaje indicando la opción elegida.\n",
    "- En una variable porgo el enlace de la url de pokeapi.  \n",
    "- Utilizo la función get sobre la url y la asigno a la variable respuesta.  \n",
    "- Con otro bloque IF evaluo el estado de la conexión para que en caso de ser exitosa carge la respuesta en formato json y selecciono algunos datos como el nombre, peso y habilidades.\n"
   ]
  },
  {
   "cell_type": "code",
   "execution_count": null,
   "id": "5627922c-758c-461a-95fe-e93b419e83e6",
   "metadata": {},
   "outputs": [],
   "source": [
    "install requests"
   ]
  },
  {
   "cell_type": "code",
   "execution_count": 1,
   "id": "48243ae0-d9a9-44bd-8b7d-69d6c6060b72",
   "metadata": {},
   "outputs": [
    {
     "name": "stdin",
     "output_type": "stream",
     "text": [
      "Escoje un Pokemon: 1. Pikachu  2. Bulbasaur:  2\n"
     ]
    },
    {
     "name": "stdout",
     "output_type": "stream",
     "text": [
      "El pokemon seleccionado es : bulbasaur\n",
      "Información del Pokémon:\n",
      "Nombre: bulbasaur\n",
      "Peso: 69\n",
      "Habilidades: overgrow, chlorophyll\n"
     ]
    }
   ],
   "source": [
    "import requests\n",
    "\n",
    "x = input(\"Escoje un Pokemon: 1. Pikachu  2. Bulbasaur: \")\n",
    "x = int(x)  \n",
    "\n",
    "if x == 1:\n",
    "    pokemon = \"pikachu\"\n",
    "elif x == 2:\n",
    "    pokemon = \"bulbasaur\"\n",
    "else:\n",
    "    print(\"Opción inválida\")\n",
    "    exit()  \n",
    "\n",
    "print (f\"El pokemon seleccionado es : {pokemon}\")\n",
    "\n",
    "url = f\"https://pokeapi.co/api/v2/pokemon/{pokemon}\"\n",
    "\n",
    "respuesta = requests.get(url)\n",
    "\n",
    "if respuesta.status_code == 200:\n",
    "    data = respuesta.json()  \n",
    "    nombre = data[\"name\"]\n",
    "    peso = data[\"weight\"]\n",
    "    habilidades = [habilidad['ability']['name'] for habilidad in data['abilities']]\n",
    "    \n",
    "    print(\"Información del Pokémon:\")\n",
    "    print(f\"Nombre: {nombre}\")\n",
    "    print(f\"Peso: {peso}\")\n",
    "    print(f\"Habilidades: {', '.join(habilidades)}\")\n",
    "else:\n",
    "    print(f\"Error al obtener información del Pokémon: {respuesta.status_code}\")"
   ]
  },
  {
   "cell_type": "markdown",
   "id": "251550ce-630f-47cc-a95f-4c3519d188e7",
   "metadata": {},
   "source": [
    "# Ejercicio 2 (Obtener datos con Web Scraping)"
   ]
  },
  {
   "cell_type": "markdown",
   "id": "dff66b18-3922-4c8b-bd44-ec97814bd307",
   "metadata": {},
   "source": [
    "Para este ejercicio y como soy aficionado al padel utilizaré la web de padelnuestro que es una web especializada en la venta de equipación para dicho deporte , donde me centraré en hacer web scraping para encontrar los nombres de las palas que tiene la web.  \n",
    "- Importo requests.\n",
    "- De la librería bs4 importo BeautifulSoup que es para hacer web scraping.\n",
    "- En una variable que llamaré url cargo la web de padel nuestro donde se encuentran las palas.\n",
    "- En una variable que llamaré respuesta ejecuto la función get sobre la variable url.\n",
    "- Creo un objeto BeautifulSoup y especifico el parser.\n",
    "- Busco todo los productos por su clase product-item-Link.\n",
    "- Con un bucle for recorro los productos para extraer los nombres de las palas."
   ]
  },
  {
   "cell_type": "code",
   "execution_count": 3,
   "id": "8154531b-1914-475b-97a8-a67489a400b2",
   "metadata": {},
   "outputs": [
    {
     "name": "stdout",
     "output_type": "stream",
     "text": [
      "STARVIE KENTA PRO 2025\n",
      "STARVIE KENTA 2025\n",
      "AKKERON FURIA R LEGACY X9 FR9\n",
      "STARVIE AQUILA PRO 2025\n",
      "STARVIE ASTRUM PRO 2025\n",
      "STARVIE BRAVA PRO 2025\n",
      "STARVIE RAPTOR PRO TOUCH 2025\n",
      "STARVIE TITANIA PRO 2025\n",
      "STARVIE TRITÓN PRO TOUCH 2025\n",
      "STARVIE BASALTO PRO 2025\n",
      "STARVIE METHEORA PRO TOUCH 2025\n",
      "STARVIE BRAVA 2025\n",
      "STARVIE DRAX PRO TOUCH 2025\n",
      "STARVIE METHEORA DUAL 2025\n",
      "STARVIE RAPTOR 2025\n",
      "STARVIE TRITÓN 2025\n",
      "NOX AT10 GENIUS 12K BY AGUSTIN TAPIA 2025\n",
      "NOX EQUATION LIGHT 2025\n",
      "NOX EQUATION 2025\n",
      "NOX LA10 QUANTUM 12K BY LEO AUGSBURGUER 2025\n",
      "NOX AT10 GENIUS 18K ALUM BY AGUSTIN TAPIA 2025\n",
      "NOX AT10 GENIUS ATTACK 12K BY AGUSTIN TAPIA 2025\n",
      "NOX ML10 QUANTUM 3K BY MIGUEL LAMPERTI 2025\n",
      "NOX AT10 GENIUS ATTACK 18K ALUM BY AGUSTIN TAPIA 2025\n",
      "KOMBAT VESUBIO\n",
      "KOMBAT TEIDE\n",
      "KOMBAT OSORNO\n",
      "\n"
     ]
    }
   ],
   "source": [
    "import requests\n",
    "from bs4 import BeautifulSoup\n",
    "\n",
    "url = \"https://www.padelnuestro.com/palas-padel\"\n",
    "\n",
    "respuesta = requests.get(url)\n",
    "\n",
    "soup = BeautifulSoup(respuesta.content, 'html.parser')\n",
    "\n",
    "products = soup.find_all('a', class_='product-item-link')\n",
    "\n",
    "for product in products:\n",
    "    product_name = product.text.strip()  \n",
    "    print(product_name)\n"
   ]
  }
 ],
 "metadata": {
  "kernelspec": {
   "display_name": "Python 3 (ipykernel)",
   "language": "python",
   "name": "python3"
  },
  "language_info": {
   "codemirror_mode": {
    "name": "ipython",
    "version": 3
   },
   "file_extension": ".py",
   "mimetype": "text/x-python",
   "name": "python",
   "nbconvert_exporter": "python",
   "pygments_lexer": "ipython3",
   "version": "3.12.4"
  }
 },
 "nbformat": 4,
 "nbformat_minor": 5
}
