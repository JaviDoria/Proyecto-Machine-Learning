{
 "cells": [
  {
   "cell_type": "markdown",
   "id": "196e6225-398c-4461-afd7-93846a277090",
   "metadata": {},
   "source": [
    "# PROCESO COMPLETO DEL DESARROLLO DE UN PROYECTO DE MACHINE LEARNING:\n",
    "## 1º Hago la carga de los datos desde un archivo CSV con Pandas para crear el DF y poder trabajar en Python"
   ]
  },
  {
   "cell_type": "code",
   "execution_count": 1,
   "id": "1b4c7e08-312e-406e-b7f3-92f509181273",
   "metadata": {},
   "outputs": [
    {
     "data": {
      "text/html": [
       "<div>\n",
       "<style scoped>\n",
       "    .dataframe tbody tr th:only-of-type {\n",
       "        vertical-align: middle;\n",
       "    }\n",
       "\n",
       "    .dataframe tbody tr th {\n",
       "        vertical-align: top;\n",
       "    }\n",
       "\n",
       "    .dataframe thead th {\n",
       "        text-align: right;\n",
       "    }\n",
       "</style>\n",
       "<table border=\"1\" class=\"dataframe\">\n",
       "  <thead>\n",
       "    <tr style=\"text-align: right;\">\n",
       "      <th></th>\n",
       "      <th>age</th>\n",
       "      <th>job</th>\n",
       "      <th>marital</th>\n",
       "      <th>education</th>\n",
       "      <th>default</th>\n",
       "      <th>balance</th>\n",
       "      <th>housing</th>\n",
       "      <th>loan</th>\n",
       "      <th>contact</th>\n",
       "      <th>day</th>\n",
       "      <th>month</th>\n",
       "      <th>duration</th>\n",
       "      <th>campaign</th>\n",
       "      <th>pdays</th>\n",
       "      <th>previous</th>\n",
       "      <th>poutcome</th>\n",
       "      <th>deposit</th>\n",
       "    </tr>\n",
       "  </thead>\n",
       "  <tbody>\n",
       "    <tr>\n",
       "      <th>0</th>\n",
       "      <td>59.0</td>\n",
       "      <td>admin.</td>\n",
       "      <td>married</td>\n",
       "      <td>secondary</td>\n",
       "      <td>no</td>\n",
       "      <td>2343</td>\n",
       "      <td>yes</td>\n",
       "      <td>no</td>\n",
       "      <td>unknown</td>\n",
       "      <td>5</td>\n",
       "      <td>may</td>\n",
       "      <td>1042</td>\n",
       "      <td>1</td>\n",
       "      <td>-1</td>\n",
       "      <td>0</td>\n",
       "      <td>unknown</td>\n",
       "      <td>yes</td>\n",
       "    </tr>\n",
       "    <tr>\n",
       "      <th>1</th>\n",
       "      <td>56.0</td>\n",
       "      <td>admin.</td>\n",
       "      <td>married</td>\n",
       "      <td>secondary</td>\n",
       "      <td>no</td>\n",
       "      <td>45</td>\n",
       "      <td>no</td>\n",
       "      <td>no</td>\n",
       "      <td>unknown</td>\n",
       "      <td>5</td>\n",
       "      <td>may</td>\n",
       "      <td>1467</td>\n",
       "      <td>1</td>\n",
       "      <td>-1</td>\n",
       "      <td>0</td>\n",
       "      <td>unknown</td>\n",
       "      <td>yes</td>\n",
       "    </tr>\n",
       "    <tr>\n",
       "      <th>2</th>\n",
       "      <td>41.0</td>\n",
       "      <td>technician</td>\n",
       "      <td>married</td>\n",
       "      <td>secondary</td>\n",
       "      <td>no</td>\n",
       "      <td>1270</td>\n",
       "      <td>yes</td>\n",
       "      <td>no</td>\n",
       "      <td>unknown</td>\n",
       "      <td>5</td>\n",
       "      <td>may</td>\n",
       "      <td>1389</td>\n",
       "      <td>1</td>\n",
       "      <td>-1</td>\n",
       "      <td>0</td>\n",
       "      <td>unknown</td>\n",
       "      <td>yes</td>\n",
       "    </tr>\n",
       "    <tr>\n",
       "      <th>3</th>\n",
       "      <td>55.0</td>\n",
       "      <td>services</td>\n",
       "      <td>married</td>\n",
       "      <td>secondary</td>\n",
       "      <td>no</td>\n",
       "      <td>2476</td>\n",
       "      <td>yes</td>\n",
       "      <td>no</td>\n",
       "      <td>unknown</td>\n",
       "      <td>5</td>\n",
       "      <td>may</td>\n",
       "      <td>579</td>\n",
       "      <td>1</td>\n",
       "      <td>-1</td>\n",
       "      <td>0</td>\n",
       "      <td>unknown</td>\n",
       "      <td>yes</td>\n",
       "    </tr>\n",
       "    <tr>\n",
       "      <th>4</th>\n",
       "      <td>54.0</td>\n",
       "      <td>admin.</td>\n",
       "      <td>married</td>\n",
       "      <td>tertiary</td>\n",
       "      <td>no</td>\n",
       "      <td>184</td>\n",
       "      <td>no</td>\n",
       "      <td>no</td>\n",
       "      <td>unknown</td>\n",
       "      <td>5</td>\n",
       "      <td>may</td>\n",
       "      <td>673</td>\n",
       "      <td>2</td>\n",
       "      <td>-1</td>\n",
       "      <td>0</td>\n",
       "      <td>unknown</td>\n",
       "      <td>yes</td>\n",
       "    </tr>\n",
       "    <tr>\n",
       "      <th>...</th>\n",
       "      <td>...</td>\n",
       "      <td>...</td>\n",
       "      <td>...</td>\n",
       "      <td>...</td>\n",
       "      <td>...</td>\n",
       "      <td>...</td>\n",
       "      <td>...</td>\n",
       "      <td>...</td>\n",
       "      <td>...</td>\n",
       "      <td>...</td>\n",
       "      <td>...</td>\n",
       "      <td>...</td>\n",
       "      <td>...</td>\n",
       "      <td>...</td>\n",
       "      <td>...</td>\n",
       "      <td>...</td>\n",
       "      <td>...</td>\n",
       "    </tr>\n",
       "    <tr>\n",
       "      <th>11157</th>\n",
       "      <td>33.0</td>\n",
       "      <td>blue-collar</td>\n",
       "      <td>single</td>\n",
       "      <td>primary</td>\n",
       "      <td>no</td>\n",
       "      <td>1</td>\n",
       "      <td>yes</td>\n",
       "      <td>no</td>\n",
       "      <td>cellular</td>\n",
       "      <td>20</td>\n",
       "      <td>apr</td>\n",
       "      <td>257</td>\n",
       "      <td>1</td>\n",
       "      <td>-1</td>\n",
       "      <td>0</td>\n",
       "      <td>unknown</td>\n",
       "      <td>no</td>\n",
       "    </tr>\n",
       "    <tr>\n",
       "      <th>11158</th>\n",
       "      <td>39.0</td>\n",
       "      <td>services</td>\n",
       "      <td>married</td>\n",
       "      <td>secondary</td>\n",
       "      <td>no</td>\n",
       "      <td>733</td>\n",
       "      <td>no</td>\n",
       "      <td>no</td>\n",
       "      <td>unknown</td>\n",
       "      <td>16</td>\n",
       "      <td>jun</td>\n",
       "      <td>83</td>\n",
       "      <td>4</td>\n",
       "      <td>-1</td>\n",
       "      <td>0</td>\n",
       "      <td>unknown</td>\n",
       "      <td>no</td>\n",
       "    </tr>\n",
       "    <tr>\n",
       "      <th>11159</th>\n",
       "      <td>32.0</td>\n",
       "      <td>technician</td>\n",
       "      <td>single</td>\n",
       "      <td>secondary</td>\n",
       "      <td>no</td>\n",
       "      <td>29</td>\n",
       "      <td>no</td>\n",
       "      <td>no</td>\n",
       "      <td>cellular</td>\n",
       "      <td>19</td>\n",
       "      <td>aug</td>\n",
       "      <td>156</td>\n",
       "      <td>2</td>\n",
       "      <td>-1</td>\n",
       "      <td>0</td>\n",
       "      <td>unknown</td>\n",
       "      <td>no</td>\n",
       "    </tr>\n",
       "    <tr>\n",
       "      <th>11160</th>\n",
       "      <td>43.0</td>\n",
       "      <td>technician</td>\n",
       "      <td>married</td>\n",
       "      <td>secondary</td>\n",
       "      <td>no</td>\n",
       "      <td>0</td>\n",
       "      <td>no</td>\n",
       "      <td>yes</td>\n",
       "      <td>cellular</td>\n",
       "      <td>8</td>\n",
       "      <td>may</td>\n",
       "      <td>9</td>\n",
       "      <td>2</td>\n",
       "      <td>172</td>\n",
       "      <td>5</td>\n",
       "      <td>failure</td>\n",
       "      <td>no</td>\n",
       "    </tr>\n",
       "    <tr>\n",
       "      <th>11161</th>\n",
       "      <td>34.0</td>\n",
       "      <td>technician</td>\n",
       "      <td>married</td>\n",
       "      <td>secondary</td>\n",
       "      <td>no</td>\n",
       "      <td>0</td>\n",
       "      <td>no</td>\n",
       "      <td>no</td>\n",
       "      <td>cellular</td>\n",
       "      <td>9</td>\n",
       "      <td>jul</td>\n",
       "      <td>628</td>\n",
       "      <td>1</td>\n",
       "      <td>-1</td>\n",
       "      <td>0</td>\n",
       "      <td>unknown</td>\n",
       "      <td>no</td>\n",
       "    </tr>\n",
       "  </tbody>\n",
       "</table>\n",
       "<p>11162 rows × 17 columns</p>\n",
       "</div>"
      ],
      "text/plain": [
       "        age          job  marital  education default  balance housing loan  \\\n",
       "0      59.0       admin.  married  secondary      no     2343     yes   no   \n",
       "1      56.0       admin.  married  secondary      no       45      no   no   \n",
       "2      41.0   technician  married  secondary      no     1270     yes   no   \n",
       "3      55.0     services  married  secondary      no     2476     yes   no   \n",
       "4      54.0       admin.  married   tertiary      no      184      no   no   \n",
       "...     ...          ...      ...        ...     ...      ...     ...  ...   \n",
       "11157  33.0  blue-collar   single    primary      no        1     yes   no   \n",
       "11158  39.0     services  married  secondary      no      733      no   no   \n",
       "11159  32.0   technician   single  secondary      no       29      no   no   \n",
       "11160  43.0   technician  married  secondary      no        0      no  yes   \n",
       "11161  34.0   technician  married  secondary      no        0      no   no   \n",
       "\n",
       "        contact  day month  duration  campaign  pdays  previous poutcome  \\\n",
       "0       unknown    5   may      1042         1     -1         0  unknown   \n",
       "1       unknown    5   may      1467         1     -1         0  unknown   \n",
       "2       unknown    5   may      1389         1     -1         0  unknown   \n",
       "3       unknown    5   may       579         1     -1         0  unknown   \n",
       "4       unknown    5   may       673         2     -1         0  unknown   \n",
       "...         ...  ...   ...       ...       ...    ...       ...      ...   \n",
       "11157  cellular   20   apr       257         1     -1         0  unknown   \n",
       "11158   unknown   16   jun        83         4     -1         0  unknown   \n",
       "11159  cellular   19   aug       156         2     -1         0  unknown   \n",
       "11160  cellular    8   may         9         2    172         5  failure   \n",
       "11161  cellular    9   jul       628         1     -1         0  unknown   \n",
       "\n",
       "      deposit  \n",
       "0         yes  \n",
       "1         yes  \n",
       "2         yes  \n",
       "3         yes  \n",
       "4         yes  \n",
       "...       ...  \n",
       "11157      no  \n",
       "11158      no  \n",
       "11159      no  \n",
       "11160      no  \n",
       "11161      no  \n",
       "\n",
       "[11162 rows x 17 columns]"
      ]
     },
     "execution_count": 1,
     "metadata": {},
     "output_type": "execute_result"
    }
   ],
   "source": [
    "# Lo primero que hago es importar pandas para trabajar con los datos.\n",
    "import pandas as pd \n",
    "\n",
    "# Creo un objeto que llamaré df donde con la función de pandas read.csv le indico la ruta del archivo.\n",
    "df = pd.read_csv(r\"C:\\Users\\javie\\Downloads\\bank_dataset.CSV\")\n",
    "df"
   ]
  },
  {
   "cell_type": "markdown",
   "id": "79f8d7f5-a0a9-434f-8b23-fcd7670cf2f7",
   "metadata": {},
   "source": [
    "## 2º Para poder estar seguro de los datos que seleccionaré para mi modelo procedo a:\n",
    "* Creo una matríz de correlación para ver la misma en las variables numéricas.\n",
    "* Para ayudarme a entender la correlación hago un Heat Map y así de maneera gráfica interpretar las correlaciones."
   ]
  },
  {
   "cell_type": "code",
   "execution_count": 2,
   "id": "4e67e1e8-67d0-4b20-b6ce-e0fe3f85763a",
   "metadata": {},
   "outputs": [
    {
     "name": "stdout",
     "output_type": "stream",
     "text": [
      "Matriz de correlación:\n",
      "               age   balance       day  duration  campaign     pdays  previous\n",
      "age       1.000000  0.112217 -0.000418  0.000139 -0.005358  0.002593  0.020060\n",
      "balance   0.112217  1.000000  0.010467  0.022436 -0.013894  0.017411  0.030805\n",
      "day      -0.000418  0.010467  1.000000 -0.018511  0.137007 -0.077232 -0.058981\n",
      "duration  0.000139  0.022436 -0.018511  1.000000 -0.041557 -0.027392 -0.026716\n",
      "campaign -0.005358 -0.013894  0.137007 -0.041557  1.000000 -0.102726 -0.049699\n",
      "pdays     0.002593  0.017411 -0.077232 -0.027392 -0.102726  1.000000  0.507272\n",
      "previous  0.020060  0.030805 -0.058981 -0.026716 -0.049699  0.507272  1.000000\n"
     ]
    },
    {
     "data": {
      "image/png": "[encoded data removed]",
      "text/plain": [
       "<Figure size 1200x800 with 2 Axes>"
      ]
     },
     "metadata": {},
     "output_type": "display_data"
    }
   ],
   "source": [
    "# Seleccionar solo las columnas numéricas\n",
    "import matplotlib.pyplot as plt \n",
    "import seaborn as sns\n",
    "numerical_df = df.select_dtypes(include=['number'])\n",
    "\n",
    "# Calcular la matriz de correlación\n",
    "correlation_matrix = numerical_df.corr()\n",
    "\n",
    "# Imprimir la matriz de correlación\n",
    "print(\"Matriz de correlación:\")\n",
    "print(correlation_matrix)\n",
    "\n",
    "# Visualizar la matriz de correlación con un heatmap\n",
    "plt.figure(figsize=(12, 8))\n",
    "sns.heatmap(correlation_matrix, annot=True, fmt='.2f', cmap='coolwarm', square=True, cbar=True)\n",
    "plt.title('Matriz de Correlación')\n",
    "plt.show()"
   ]
  },
  {
   "cell_type": "markdown",
   "id": "dcdd816f-8f0f-4278-8c87-842eb00d564f",
   "metadata": {},
   "source": [
    "## 3º Ahora que ya vi la correlación y los datos del DF selecciono las variables con las que trabajaré en el modelo.\n",
    "* En un primer momento estaba considerando trabajar únicamente con las variables que aportaban información demográfica y financiera pero despues de ver el Heat Map decido también incluir pdays y previous que son las que tienen la correlación más elevada.\n",
    "* Copio el codigo que tenía al inicio para efectuar la carga del archivo pero esta vez creo un Df en base a una lista con las columnas que utilizaré."
   ]
  },
  {
   "cell_type": "code",
   "execution_count": 3,
   "id": "3c488056-b88a-49f5-990f-b064a586b366",
   "metadata": {},
   "outputs": [
    {
     "name": "stdout",
     "output_type": "stream",
     "text": [
      "<class 'pandas.core.frame.DataFrame'>\n",
      "RangeIndex: 11162 entries, 0 to 11161\n",
      "Data columns (total 11 columns):\n",
      " #   Column     Non-Null Count  Dtype  \n",
      "---  ------     --------------  -----  \n",
      " 0   age        11152 non-null  float64\n",
      " 1   job        11162 non-null  object \n",
      " 2   marital    11157 non-null  object \n",
      " 3   education  11155 non-null  object \n",
      " 4   default    11162 non-null  object \n",
      " 5   balance    11162 non-null  int64  \n",
      " 6   housing    11162 non-null  object \n",
      " 7   loan       11162 non-null  object \n",
      " 8   deposit    11162 non-null  object \n",
      " 9   pdays      11162 non-null  int64  \n",
      " 10  previous   11162 non-null  int64  \n",
      "dtypes: float64(1), int64(3), object(7)\n",
      "memory usage: 959.4+ KB\n"
     ]
    }
   ],
   "source": [
    "# Lo primero que hago es importar pandas para trabajar con los datos.\n",
    "import pandas as pd \n",
    "\n",
    "# Creo un objeto que llamaré df donde con la función de pandas read.csv le indico la ruta del archivo.\n",
    "df = pd.read_csv(r\"C:\\Users\\javie\\Downloads\\bank_dataset.CSV\")\n",
    "\n",
    "# Indico las columnas que contienen los datos que quiero seleccionar.\n",
    "df = df[['age','job','marital','education','default','balance','housing','loan','deposit','pdays','previous']]\n",
    "\n",
    "df.info()\n"
   ]
  },
  {
   "cell_type": "markdown",
   "id": "4b4732b5-975a-4cf8-9fef-166302fb8841",
   "metadata": {},
   "source": [
    "## 4º Hago uns búsqueda de los valores nulos en mi DF para posteriormente poder tratarlos."
   ]
  },
  {
   "cell_type": "code",
   "execution_count": 4,
   "id": "5074e6ed-ee66-4a2f-b3be-22dc8f1078ad",
   "metadata": {},
   "outputs": [
    {
     "data": {
      "text/plain": [
       "age          10\n",
       "job           0\n",
       "marital       5\n",
       "education     7\n",
       "default       0\n",
       "balance       0\n",
       "housing       0\n",
       "loan          0\n",
       "deposit       0\n",
       "pdays         0\n",
       "previous      0\n",
       "dtype: int64"
      ]
     },
     "execution_count": 4,
     "metadata": {},
     "output_type": "execute_result"
    }
   ],
   "source": [
    "# Cuento los valores nulos en cada columna.\n",
    "df.isnull().sum()"
   ]
  },
  {
   "cell_type": "markdown",
   "id": "b1c282dd-9cd7-472a-99ab-9f4f3feb62ce",
   "metadata": {},
   "source": [
    "* Hago la imputación de los valores nulos siguiendo los critérios que se especifican en las lineas de comentario del código.\n",
    "* Finalmente vuelvo a hacer una búsqueda de valores nulos para comprobar que esta vez sea 0."
   ]
  },
  {
   "cell_type": "code",
   "execution_count": 5,
   "id": "e81a1b1f-a64e-406e-92df-e5421446d952",
   "metadata": {},
   "outputs": [
    {
     "data": {
      "text/plain": [
       "age          0\n",
       "job          0\n",
       "marital      0\n",
       "education    0\n",
       "default      0\n",
       "balance      0\n",
       "housing      0\n",
       "loan         0\n",
       "deposit      0\n",
       "pdays        0\n",
       "previous     0\n",
       "dtype: int64"
      ]
     },
     "execution_count": 5,
     "metadata": {},
     "output_type": "execute_result"
    }
   ],
   "source": [
    "# Sustituyo los nulos de la edad por su moda teniendo en cuenta los campos de job, marital y education ajustando los perfiles de coincidencia \n",
    "mediana_age = df.groupby([\"job\", \"marital\", \"education\"])[\"age\"].transform(lambda x: x.median() if not x.isnull().all() else x.median())\n",
    "df[\"age\"] = df[\"age\"].fillna(mediana_age.round())\n",
    "\n",
    "# Sustituyo los nulos de marital con la moda de los registros teniendo en cuenta la edad y el trabajo para ajustar un poco más la coincidencia\n",
    "moda_marital = df.groupby([\"job\", \"age\"])[\"marital\"].transform(lambda x: x.mode()[0] if not x.isnull().all() else None)\n",
    "df[\"marital\"] = df[\"marital\"].fillna(moda_marital)\n",
    "\n",
    "# Sustituyo los nulos de education con la moda de los registros que tengan la misma edad y trabajo para ajustar la coincidencia\n",
    "moda_education = df.groupby([\"job\", \"age\"])[\"education\"].transform(lambda x: x.mode().iloc[0] if not x.isnull().all() else None)\n",
    "df[\"education\"] = df[\"education\"].fillna(moda_education)\n",
    "\n",
    "# Vuelvo a contar los valores nulos para comprobar de que han sido sustituidos\n",
    "df.isnull().sum()"
   ]
  },
  {
   "cell_type": "markdown",
   "id": "2563b2ae-d645-4493-a7d3-d44f73f96bb0",
   "metadata": {},
   "source": [
    "## 5º Tratamiento de outliers.  \n",
    "* Hago una búsqueda de los outliers en las variables numéricas del DF."
   ]
  },
  {
   "cell_type": "code",
   "execution_count": 6,
   "id": "dd821547-e0e9-4a13-b970-cd3f94be0237",
   "metadata": {},
   "outputs": [
    {
     "name": "stdout",
     "output_type": "stream",
     "text": [
      "Outliers detectados en 'age':\n",
      "1162     75.0\n",
      "1236     85.0\n",
      "1243     90.0\n",
      "1274     85.0\n",
      "1320     83.0\n",
      "         ... \n",
      "10438    77.0\n",
      "10562    88.0\n",
      "10570    77.0\n",
      "10618    78.0\n",
      "10843    86.0\n",
      "Name: age, Length: 171, dtype: float64\n"
     ]
    },
    {
     "data": {
      "image/png": "[encoded data removed]",
      "text/plain": [
       "<Figure size 800x600 with 1 Axes>"
      ]
     },
     "metadata": {},
     "output_type": "display_data"
    },
    {
     "name": "stdout",
     "output_type": "stream",
     "text": [
      "Outliers detectados en 'balance':\n",
      "9         5090\n",
      "60        7180\n",
      "61        5291\n",
      "69        4580\n",
      "71       10576\n",
      "         ...  \n",
      "11073     6718\n",
      "11077     6102\n",
      "11085     4243\n",
      "11086     6445\n",
      "11101     6242\n",
      "Name: balance, Length: 1055, dtype: int64\n"
     ]
    },
    {
     "data": {
      "image/png": "[encoded data removed]",
      "text/plain": [
       "<Figure size 800x600 with 1 Axes>"
      ]
     },
     "metadata": {},
     "output_type": "display_data"
    },
    {
     "name": "stdout",
     "output_type": "stream",
     "text": [
      "Outliers detectados en 'pdays':\n",
      "890      166\n",
      "891       91\n",
      "899      147\n",
      "933      170\n",
      "951      150\n",
      "        ... \n",
      "11125    362\n",
      "11133    260\n",
      "11145    271\n",
      "11155    172\n",
      "11160    172\n",
      "Name: pdays, Length: 2750, dtype: int64\n"
     ]
    },
    {
     "data": {
      "image/png": "[encoded data removed]",
      "text/plain": [
       "<Figure size 800x600 with 1 Axes>"
      ]
     },
     "metadata": {},
     "output_type": "display_data"
    },
    {
     "name": "stdout",
     "output_type": "stream",
     "text": [
      "Outliers detectados en 'previous':\n",
      "891       4\n",
      "933       3\n",
      "952       4\n",
      "968       3\n",
      "1007     10\n",
      "         ..\n",
      "11092     4\n",
      "11125     3\n",
      "11133     5\n",
      "11145     4\n",
      "11160     5\n",
      "Name: previous, Length: 1258, dtype: int64\n"
     ]
    },
    {
     "data": {
      "image/png": "[encoded data removed]",
      "text/plain": [
       "<Figure size 800x600 with 1 Axes>"
      ]
     },
     "metadata": {},
     "output_type": "display_data"
    }
   ],
   "source": [
    "import numpy as np\n",
    "# Selecciono solo las columnas numéricas del DataFrame\n",
    "columnas_numericas = df.select_dtypes(include=[np.number]).columns\n",
    "\n",
    "# Bucle for para detectar outliers y crear un boxplot para cada columna numérica\n",
    "for columna in columnas_numericas:\n",
    "    # Cálculo de los límites de outliers usando el IQR\n",
    "    Q1 = df[columna].quantile(0.25)\n",
    "    Q3 = df[columna].quantile(0.75)\n",
    "    IQR = Q3 - Q1\n",
    "    limite_inferior = Q1 - 1.5 * IQR\n",
    "    limite_superior = Q3 + 1.5 * IQR\n",
    "    \n",
    "    # Filtrado de los outliers\n",
    "    outliers = df[(df[columna] < limite_inferior) | (df[columna] > limite_superior)][columna]\n",
    "    print(f\"Outliers detectados en '{columna}':\")\n",
    "    print(outliers)\n",
    "    \n",
    "    # Creación del boxplot para cada columna \n",
    "    plt.figure(figsize=(8, 6))\n",
    "    plt.boxplot(df[columna], vert=False)\n",
    "    plt.title(f'Boxplot de {columna}')\n",
    "    plt.xlabel(columna)\n",
    "    plt.show()\n"
   ]
  },
  {
   "cell_type": "markdown",
   "id": "1fda1d13-e18c-4411-8876-1986907a8741",
   "metadata": {},
   "source": [
    "## Trato los Outliers del DF con Winsorize \n",
    "* Para no afectar al DF original hago un df_copy que será con el que trabajaré a partir de este bloque."
   ]
  },
  {
   "cell_type": "code",
   "execution_count": 7,
   "id": "f7a89e1d-0336-4c33-8a1d-6c1490c730f6",
   "metadata": {},
   "outputs": [
    {
     "data": {
      "image/png": "[encoded data removed]",
      "text/plain": [
       "<Figure size 800x600 with 1 Axes>"
      ]
     },
     "metadata": {},
     "output_type": "display_data"
    },
    {
     "data": {
      "image/png": "[encoded data removed]",
      "text/plain": [
       "<Figure size 800x600 with 1 Axes>"
      ]
     },
     "metadata": {},
     "output_type": "display_data"
    },
    {
     "data": {
      "image/png": "[encoded data removed]",
      "text/plain": [
       "<Figure size 800x600 with 1 Axes>"
      ]
     },
     "metadata": {},
     "output_type": "display_data"
    },
    {
     "data": {
      "image/png": "[encoded data removed]",
      "text/plain": [
       "<Figure size 800x600 with 1 Axes>"
      ]
     },
     "metadata": {},
     "output_type": "display_data"
    }
   ],
   "source": [
    "# Importo matplotlib para la gráfica y winsorize para tratar los outliers.\n",
    "import matplotlib.pyplot as plt \n",
    "from scipy.stats.mstats import winsorize\n",
    "\n",
    "# Creo una copia del DataFrame para evitar modificar el original\n",
    "df_copy = df.copy()\n",
    "\n",
    "# Reemplazo los valores extremos en las columnas 'age' y 'balance' por los valores de los percentiles 5 y 95.\n",
    "df_copy['age'] = winsorize(df_copy['age'], limits=[0.05, 0.05])  # Limita los valores fuera de los percentiles 5-95\n",
    "df_copy['balance'] = winsorize(df_copy['balance'], limits=[0.05, 0.05])  # Limita los valores fuera de los percentiles 5-95\n",
    "df_copy['pdays'] = winsorize(df_copy['pdays'], limits=[0.05, 0.05])  # Limita los valores fuera de los percentiles 5-95\n",
    "df_copy['previous'] = winsorize(df_copy['previous'], limits=[0.05, 0.05])  # Limita los valores fuera de los percentiles 5-95\n",
    "\n",
    "# Creación del boxplot de la columna 'age' en el DataFrame winsorizado\n",
    "plt.figure(figsize=(8, 6))\n",
    "plt.boxplot(df_copy['age'], vert=False)\n",
    "plt.title('Boxplot de Age (Winsorizado)')\n",
    "plt.ylabel('Age')\n",
    "plt.show()\n",
    "\n",
    "# Creación del boxplot de la columna 'balance' en el DataFrame winsorizado\n",
    "plt.figure(figsize=(8, 6))\n",
    "plt.boxplot(df_copy['balance'], vert=False)\n",
    "plt.title('Boxplot de Balance (Winsorizado)')\n",
    "plt.ylabel('Balance')\n",
    "plt.show()\n",
    "\n",
    "# Creación del boxplot de la columna 'age' en el DataFrame winsorizado\n",
    "plt.figure(figsize=(8, 6))\n",
    "plt.boxplot(df_copy['pdays'], vert=False)\n",
    "plt.title('Boxplot de Age (Winsorizado)')\n",
    "plt.ylabel('Pdays')\n",
    "plt.show()\n",
    "\n",
    "# Creación del boxplot de la columna 'age' en el DataFrame winsorizado\n",
    "plt.figure(figsize=(8, 6))\n",
    "plt.boxplot(df_copy['previous'], vert=False)\n",
    "plt.title('Boxplot de Age (Winsorizado)')\n",
    "plt.ylabel('Previous')\n",
    "plt.show()\n"
   ]
  },
  {
   "cell_type": "markdown",
   "id": "42dce943-90d3-44b4-a2fe-4eb58a960a63",
   "metadata": {},
   "source": [
    "## 6º División del conjunto de datos:\n",
    "* La división la he realizado con un 80% de los datos para train (8,929 registros) y un 20% para test (2,233 registros). Considero esta proporción adecuada para un dataset de este tamaño, ya que permite entrenar el modelo con una cantidad significativa de datos mientras se reserva un conjunto suficiente para evaluar su rendimiento.\n",
    "* Para mi modelo el cual será de aprendizaje supervisado estoy seleccionando deposit como etiqueta .\n",
    "* Creo los objetos X para las variables independientes y el objeto Y para las variables dependientes y utilizo estos objetos para segmentar los grupos de entrenamiento y de prueba."
   ]
  },
  {
   "cell_type": "code",
   "execution_count": 9,
   "id": "c6658d82-9138-40c4-839c-27c2f327f860",
   "metadata": {},
   "outputs": [
    {
     "name": "stdout",
     "output_type": "stream",
     "text": [
      "Los datos de entrenamiento contienen 8929 filas, 10 características y 1 etiquetas.\n",
      "Los datos de prueba contienen 2233 filas, 10 características y 1 etiquetas.\n"
     ]
    }
   ],
   "source": [
    "# Importo train_test_split de sklearn para dividir los datos en conjuntos de entrenamiento y prueba.\n",
    "from sklearn.model_selection import train_test_split\n",
    "\n",
    "# Creo el objeto 'X' para las características y el objeto 'Y' para la etiqueta o variable objetivo.\n",
    "X = df_copy.loc[:, ['age', 'job', 'marital', 'education', 'default', 'balance', 'housing', 'loan','pdays','previous']]\n",
    "Y = df_copy.loc[:, ['deposit']]\n",
    "\n",
    "# Realizo la separación de los datos en entrenamiento y prueba, utilizando el 20% para pruebas.\n",
    "X_train, X_test, Y_train, Y_test = train_test_split(X, Y, test_size=0.2, random_state=0, stratify=Y)\n",
    "\n",
    "# Imprimo la información sobre los conjuntos de entrenamiento y prueba.\n",
    "print(f'Los datos de entrenamiento contienen {X_train.shape[0]} filas, {X_train.shape[1]} características y {Y_train.shape[1]} etiquetas.')\n",
    "print(f'Los datos de prueba contienen {X_test.shape[0]} filas, {X_test.shape[1]} características y {Y_test.shape[1]} etiquetas.')\n"
   ]
  },
  {
   "cell_type": "markdown",
   "id": "217ecae8-ffc0-47d4-aed8-9f11a0633994",
   "metadata": {},
   "source": [
    "## 7º Codificación de variables Categóricas:\n",
    "* Busco las categorias en el df_copy\n"
   ]
  },
  {
   "cell_type": "code",
   "execution_count": 46,
   "id": "f13b1d6d-d724-44a8-b620-03303f20f7b8",
   "metadata": {},
   "outputs": [
    {
     "name": "stdout",
     "output_type": "stream",
     "text": [
      "La variable JOB tiene un total de 12 categorías     \n",
      "job\n",
      "management       2566\n",
      "blue-collar      1944\n",
      "technician       1823\n",
      "admin.           1334\n",
      "services          923\n",
      "retired           778\n",
      "self-employed     405\n",
      "student           360\n",
      "unemployed        357\n",
      "entrepreneur      328\n",
      "housemaid         274\n",
      "unknown            70\n",
      "Name: count, dtype: int64    \n",
      " \n",
      "------------------------\n",
      "\n",
      "La variable MARITAL tiene un total de 3 categorías     \n",
      "marital\n",
      "married     6353\n",
      "single      3518\n",
      "divorced    1291\n",
      "Name: count, dtype: int64    \n",
      " \n",
      "------------------------\n",
      "\n",
      "La variable EDUCATION tiene un total de 4 categorías     \n",
      "education\n",
      "secondary    5479\n",
      "tertiary     3687\n",
      "primary      1500\n",
      "unknown       496\n",
      "Name: count, dtype: int64    \n",
      " \n",
      "------------------------\n",
      "\n",
      "La variable DEFAULT tiene un total de 2 categorías     \n",
      "default\n",
      "no     10994\n",
      "yes      168\n",
      "Name: count, dtype: int64    \n",
      " \n",
      "------------------------\n",
      "\n",
      "La variable HOUSING tiene un total de 2 categorías     \n",
      "housing\n",
      "no     5881\n",
      "yes    5281\n",
      "Name: count, dtype: int64    \n",
      " \n",
      "------------------------\n",
      "\n",
      "La variable LOAN tiene un total de 2 categorías     \n",
      "loan\n",
      "no     9702\n",
      "yes    1460\n",
      "Name: count, dtype: int64    \n",
      " \n",
      "------------------------\n",
      "\n",
      "La variable DEPOSIT tiene un total de 2 categorías     \n",
      "deposit\n",
      "no     5873\n",
      "yes    5289\n",
      "Name: count, dtype: int64    \n",
      " \n",
      "------------------------\n",
      "\n"
     ]
    }
   ],
   "source": [
    "# Itero sobre las columnas del DataFrame que tienen tipo de dato 'object' (categóricas).\n",
    "for column in df_copy.select_dtypes(include=['object']).columns:\n",
    "    \n",
    "    # Imprimo el nombre de la variable, su número total de categorías y la distribución de los valores.\n",
    "    print(f\"La variable {column.upper()} tiene un total de {df_copy[column].nunique()} categorías \\\n",
    "    \\n{df_copy[column].value_counts()}\\\n",
    "    \\n \\n------------------------\\n\")\n"
   ]
  },
  {
   "cell_type": "markdown",
   "id": "39a16558-3dd1-4397-904b-3f67a4c613a7",
   "metadata": {},
   "source": [
    "* Ejecuto Label Encoding para las características default, loan y housing ya que son características binarias ( yes/no)"
   ]
  },
  {
   "cell_type": "code",
   "execution_count": 11,
   "id": "37b30b78-4af7-4882-a643-d176e060d439",
   "metadata": {},
   "outputs": [],
   "source": [
    "# Defino las variables binarias\n",
    "binary_variable = ['default', 'loan', 'housing']\n",
    "\n",
    "# Convierto las características binarias en 0 y 1 usando map, tanto de datos de entrenamiento como de prueba\n",
    "for variable in binary_variable:\n",
    "    X_train[variable] = X_train[variable].map({'no': 0, 'yes': 1}).astype(int)\n",
    "    X_test[variable] = X_test[variable].map({'no': 0, 'yes': 1}).astype(int)\n",
    "\n",
    "# Convierto la etiqueta 'deposit' en 0 y 1, tanto de datos de entrenamiento como de prueba\n",
    "Y_train['deposit'] = Y_train['deposit'].map({'no': 0, 'yes': 1}).astype(int)\n",
    "Y_test['deposit'] = Y_test['deposit'].map({'no': 0, 'yes': 1}).astype(int)\n"
   ]
  },
  {
   "cell_type": "markdown",
   "id": "bbfb2373-e334-4219-ad55-023bb34282c3",
   "metadata": {},
   "source": [
    "* Procedo a hacer Label Encoding a education ya que es una variable ordinal"
   ]
  },
  {
   "cell_type": "code",
   "execution_count": 12,
   "id": "d2409561-f61d-46a4-90ea-3f43730610f5",
   "metadata": {},
   "outputs": [
    {
     "name": "stdout",
     "output_type": "stream",
     "text": [
      "        age          job   marital  education  default  balance  housing  \\\n",
      "2536   60.0      retired   married          3        0      209        0   \n",
      "8283   51.0   management   married          0        0     6027        1   \n",
      "10439  58.0      retired  divorced          1        0        0        0   \n",
      "2809   61.0      retired   married          0        0     6027        0   \n",
      "5590   37.0   management    single          3        0      715        1   \n",
      "...     ...          ...       ...        ...      ...      ...      ...   \n",
      "7666   47.0   technician   married          2        0      545        1   \n",
      "10894  32.0   management    single          2        0     6027        0   \n",
      "9523   46.0   management    single          1        0      244        1   \n",
      "5303   33.0   technician   married          1        0     2362        1   \n",
      "1033   52.0  blue-collar   married          1        0     6027        0   \n",
      "\n",
      "       loan  pdays  previous  \n",
      "2536      0    106         1  \n",
      "8283      0     -1         0  \n",
      "10439     0     -1         0  \n",
      "2809      0    107         1  \n",
      "5590      0     -1         0  \n",
      "...     ...    ...       ...  \n",
      "7666      0     -1         0  \n",
      "10894     0     -1         0  \n",
      "9523      0     -1         0  \n",
      "5303      0     -1         0  \n",
      "1033      1     -1         0  \n",
      "\n",
      "[8929 rows x 10 columns]\n"
     ]
    }
   ],
   "source": [
    "import pandas as pd\n",
    "from sklearn.preprocessing import LabelEncoder\n",
    "\n",
    "# Creo un objeto LabelEncoder\n",
    "le = LabelEncoder()\n",
    "\n",
    "# Ajustar y transformar la columna 'education'\n",
    "X_train['education'] = le.fit_transform(X_train['education'])\n",
    "X_test['education'] = le.fit_transform(X_test['education'])\n",
    "\n",
    "\n",
    "print(X_train)"
   ]
  },
  {
   "cell_type": "markdown",
   "id": "f8ac4650-42f6-4d78-a691-1e6284f3eab1",
   "metadata": {},
   "source": [
    "* Hago agrupación de categorías de 'job' antes del One Hot Encoding"
   ]
  },
  {
   "cell_type": "code",
   "execution_count": 48,
   "id": "a776a776-ff58-4ada-88d0-0db7ef75501c",
   "metadata": {},
   "outputs": [
    {
     "name": "stdout",
     "output_type": "stream",
     "text": [
      "        age          job  marital  education default  balance housing loan  \\\n",
      "0      59.0       admin.  married  secondary      no     2343     yes   no   \n",
      "1      56.0       admin.  married  secondary      no       45      no   no   \n",
      "2      41.0   technician  married  secondary      no     1270     yes   no   \n",
      "3      55.0     services  married  secondary      no     2476     yes   no   \n",
      "4      54.0       admin.  married   tertiary      no      184      no   no   \n",
      "...     ...          ...      ...        ...     ...      ...     ...  ...   \n",
      "11157  33.0  blue-collar   single    primary      no        1     yes   no   \n",
      "11158  39.0     services  married  secondary      no      733      no   no   \n",
      "11159  32.0   technician   single  secondary      no       29      no   no   \n",
      "11160  43.0   technician  married  secondary      no        0      no  yes   \n",
      "11161  34.0   technician  married  secondary      no        0      no   no   \n",
      "\n",
      "      deposit  pdays  previous  \n",
      "0         yes     -1         0  \n",
      "1         yes     -1         0  \n",
      "2         yes     -1         0  \n",
      "3         yes     -1         0  \n",
      "4         yes     -1         0  \n",
      "...       ...    ...       ...  \n",
      "11157      no     -1         0  \n",
      "11158      no     -1         0  \n",
      "11159      no     -1         0  \n",
      "11160      no    172         5  \n",
      "11161      no     -1         0  \n",
      "\n",
      "[11162 rows x 11 columns]\n"
     ]
    }
   ],
   "source": [
    "import pandas as pd\n",
    "\n",
    "mapping = {\n",
    "    'management': 'office',\n",
    "    'admin.': 'office',\n",
    "    'blue-collar': 'blue-collar',\n",
    "    'technician': 'blue-collar',\n",
    "    'services': 'service',\n",
    "    'self-employed': 'self-employed',\n",
    "    'student': 'student',\n",
    "    'unemployed': 'unemployed',\n",
    "    'entrepreneur': 'self-employed',\n",
    "    'housemaid': 'service',\n",
    "    'unknown': 'other'\n",
    "}\n",
    "\n",
    "# Aplicamos el mapeo a la columna 'job' \n",
    "X_train['job'] = X_train['job'].map(mapping)\n",
    "X_test['job'] = X_test['job'].map(mapping)\n",
    "\n",
    "print(df)"
   ]
  },
  {
   "cell_type": "markdown",
   "id": "72584cb5-a819-4a2e-b527-dce8491a4462",
   "metadata": {},
   "source": [
    "* Ejecuto One Hot Encoding\n",
    "* A partir de este bloque trabajaré con los objetos **encoded_X_train** y **encoded_X_test**."
   ]
  },
  {
   "cell_type": "code",
   "execution_count": 50,
   "id": "a8fc3d27-10f5-4925-9ae1-d597057ba5f8",
   "metadata": {},
   "outputs": [
    {
     "name": "stdout",
     "output_type": "stream",
     "text": [
      "\n",
      "Ejemplo de datos de entrenamiento después de One-Hot Encoding:\n"
     ]
    },
    {
     "data": {
      "text/html": [
       "<div>\n",
       "<style scoped>\n",
       "    .dataframe tbody tr th:only-of-type {\n",
       "        vertical-align: middle;\n",
       "    }\n",
       "\n",
       "    .dataframe tbody tr th {\n",
       "        vertical-align: top;\n",
       "    }\n",
       "\n",
       "    .dataframe thead th {\n",
       "        text-align: right;\n",
       "    }\n",
       "</style>\n",
       "<table border=\"1\" class=\"dataframe\">\n",
       "  <thead>\n",
       "    <tr style=\"text-align: right;\">\n",
       "      <th></th>\n",
       "      <th>age</th>\n",
       "      <th>education</th>\n",
       "      <th>default</th>\n",
       "      <th>balance</th>\n",
       "      <th>housing</th>\n",
       "      <th>loan</th>\n",
       "      <th>pdays</th>\n",
       "      <th>previous</th>\n",
       "      <th>job_self-employed</th>\n",
       "      <th>job_student</th>\n",
       "      <th>job_unemployed</th>\n",
       "      <th>job_nan</th>\n",
       "      <th>marital_married</th>\n",
       "      <th>marital_single</th>\n",
       "    </tr>\n",
       "  </thead>\n",
       "  <tbody>\n",
       "    <tr>\n",
       "      <th>2536</th>\n",
       "      <td>60.0</td>\n",
       "      <td>3</td>\n",
       "      <td>0</td>\n",
       "      <td>209</td>\n",
       "      <td>0</td>\n",
       "      <td>0</td>\n",
       "      <td>106</td>\n",
       "      <td>1</td>\n",
       "      <td>0.0</td>\n",
       "      <td>0.0</td>\n",
       "      <td>0.0</td>\n",
       "      <td>1.0</td>\n",
       "      <td>1.0</td>\n",
       "      <td>0.0</td>\n",
       "    </tr>\n",
       "    <tr>\n",
       "      <th>8283</th>\n",
       "      <td>51.0</td>\n",
       "      <td>0</td>\n",
       "      <td>0</td>\n",
       "      <td>6027</td>\n",
       "      <td>1</td>\n",
       "      <td>0</td>\n",
       "      <td>-1</td>\n",
       "      <td>0</td>\n",
       "      <td>0.0</td>\n",
       "      <td>0.0</td>\n",
       "      <td>0.0</td>\n",
       "      <td>1.0</td>\n",
       "      <td>1.0</td>\n",
       "      <td>0.0</td>\n",
       "    </tr>\n",
       "    <tr>\n",
       "      <th>10439</th>\n",
       "      <td>58.0</td>\n",
       "      <td>1</td>\n",
       "      <td>0</td>\n",
       "      <td>0</td>\n",
       "      <td>0</td>\n",
       "      <td>0</td>\n",
       "      <td>-1</td>\n",
       "      <td>0</td>\n",
       "      <td>0.0</td>\n",
       "      <td>0.0</td>\n",
       "      <td>0.0</td>\n",
       "      <td>1.0</td>\n",
       "      <td>0.0</td>\n",
       "      <td>0.0</td>\n",
       "    </tr>\n",
       "    <tr>\n",
       "      <th>2809</th>\n",
       "      <td>61.0</td>\n",
       "      <td>0</td>\n",
       "      <td>0</td>\n",
       "      <td>6027</td>\n",
       "      <td>0</td>\n",
       "      <td>0</td>\n",
       "      <td>107</td>\n",
       "      <td>1</td>\n",
       "      <td>0.0</td>\n",
       "      <td>0.0</td>\n",
       "      <td>0.0</td>\n",
       "      <td>1.0</td>\n",
       "      <td>1.0</td>\n",
       "      <td>0.0</td>\n",
       "    </tr>\n",
       "    <tr>\n",
       "      <th>5590</th>\n",
       "      <td>37.0</td>\n",
       "      <td>3</td>\n",
       "      <td>0</td>\n",
       "      <td>715</td>\n",
       "      <td>1</td>\n",
       "      <td>0</td>\n",
       "      <td>-1</td>\n",
       "      <td>0</td>\n",
       "      <td>0.0</td>\n",
       "      <td>0.0</td>\n",
       "      <td>0.0</td>\n",
       "      <td>1.0</td>\n",
       "      <td>0.0</td>\n",
       "      <td>1.0</td>\n",
       "    </tr>\n",
       "  </tbody>\n",
       "</table>\n",
       "</div>"
      ],
      "text/plain": [
       "        age  education  default  balance  housing  loan  pdays  previous  \\\n",
       "2536   60.0          3        0      209        0     0    106         1   \n",
       "8283   51.0          0        0     6027        1     0     -1         0   \n",
       "10439  58.0          1        0        0        0     0     -1         0   \n",
       "2809   61.0          0        0     6027        0     0    107         1   \n",
       "5590   37.0          3        0      715        1     0     -1         0   \n",
       "\n",
       "       job_self-employed  job_student  job_unemployed  job_nan  \\\n",
       "2536                 0.0          0.0             0.0      1.0   \n",
       "8283                 0.0          0.0             0.0      1.0   \n",
       "10439                0.0          0.0             0.0      1.0   \n",
       "2809                 0.0          0.0             0.0      1.0   \n",
       "5590                 0.0          0.0             0.0      1.0   \n",
       "\n",
       "       marital_married  marital_single  \n",
       "2536               1.0             0.0  \n",
       "8283               1.0             0.0  \n",
       "10439              0.0             0.0  \n",
       "2809               1.0             0.0  \n",
       "5590               0.0             1.0  "
      ]
     },
     "execution_count": 50,
     "metadata": {},
     "output_type": "execute_result"
    }
   ],
   "source": [
    "from sklearn.preprocessing import OneHotEncoder\n",
    "import pandas as pd\n",
    "\n",
    "# Copia los datos de entrenamiento y prueba\n",
    "encoded_X_train = X_train.copy()\n",
    "encoded_X_test = X_test.copy()\n",
    "\n",
    "# Defino las variables categóricas para One-Hot Encoding\n",
    "encoding_variable = ['job', 'marital']\n",
    "\n",
    "# Inicializo el encoder\n",
    "encoder = OneHotEncoder(drop='first', sparse_output=False)\n",
    "\n",
    "# Realizo el One-Hot Encoding de los datos de entrenamiento y prueba\n",
    "for variable in encoding_variable:\n",
    "    # Primero ajustamos el encoder con los datos de entrenamiento\n",
    "    encoded_train_results = encoder.fit_transform(X_train[encoding_variable])\n",
    "    encoded_train_columns = pd.DataFrame(encoded_train_results, \n",
    "                                     columns=encoder.get_feature_names_out(encoding_variable), \n",
    "                                     index=X_train.index)\n",
    "\n",
    "    # Luego transformamos los datos de prueba\n",
    "    encoded_test_results = encoder.transform(X_test[encoding_variable])\n",
    "    encoded_test_columns = pd.DataFrame(encoded_test_results, \n",
    "                                    columns=encoder.get_feature_names_out(encoding_variable), \n",
    "                                    index=X_test.index)\n",
    "\n",
    "# Unir ambas\n",
    "encoded_X_train = pd.concat([encoded_X_train, encoded_train_columns], axis=\"columns\")\n",
    "encoded_X_test = pd.concat([encoded_X_test, encoded_test_columns], axis=\"columns\")\n",
    "\n",
    "\n",
    "# Elimino las columnas originales categóricas de X_train y X_test\n",
    "encoded_X_train = encoded_X_train.drop(columns=encoding_variable)\n",
    "encoded_X_test = encoded_X_test.drop(columns=encoding_variable)\n",
    "\n",
    "# Imprimo los primeros registros de los datos procesados\n",
    "print(\"\\nEjemplo de datos de entrenamiento después de One-Hot Encoding:\")\n",
    "encoded_X_train.head()\n",
    "\n",
    "\n"
   ]
  },
  {
   "cell_type": "code",
   "execution_count": 83,
   "id": "a3e3b8fd-c73f-43d6-821c-eed384f6084e",
   "metadata": {},
   "outputs": [
    {
     "name": "stdout",
     "output_type": "stream",
     "text": [
      "Ejemplo de datos de prueba después de One-Hot Encoding:\n"
     ]
    },
    {
     "data": {
      "text/html": [
       "<div>\n",
       "<style scoped>\n",
       "    .dataframe tbody tr th:only-of-type {\n",
       "        vertical-align: middle;\n",
       "    }\n",
       "\n",
       "    .dataframe tbody tr th {\n",
       "        vertical-align: top;\n",
       "    }\n",
       "\n",
       "    .dataframe thead th {\n",
       "        text-align: right;\n",
       "    }\n",
       "</style>\n",
       "<table border=\"1\" class=\"dataframe\">\n",
       "  <thead>\n",
       "    <tr style=\"text-align: right;\">\n",
       "      <th></th>\n",
       "      <th>age</th>\n",
       "      <th>education</th>\n",
       "      <th>default</th>\n",
       "      <th>balance</th>\n",
       "      <th>housing</th>\n",
       "      <th>loan</th>\n",
       "      <th>pdays</th>\n",
       "      <th>previous</th>\n",
       "      <th>job_self-employed</th>\n",
       "      <th>job_student</th>\n",
       "      <th>job_unemployed</th>\n",
       "      <th>job_nan</th>\n",
       "      <th>marital_married</th>\n",
       "      <th>marital_single</th>\n",
       "    </tr>\n",
       "  </thead>\n",
       "  <tbody>\n",
       "    <tr>\n",
       "      <th>7511</th>\n",
       "      <td>34.0</td>\n",
       "      <td>1</td>\n",
       "      <td>0</td>\n",
       "      <td>-55</td>\n",
       "      <td>1</td>\n",
       "      <td>0</td>\n",
       "      <td>-1</td>\n",
       "      <td>0</td>\n",
       "      <td>0.0</td>\n",
       "      <td>0.0</td>\n",
       "      <td>0.0</td>\n",
       "      <td>1.0</td>\n",
       "      <td>1.0</td>\n",
       "      <td>0.0</td>\n",
       "    </tr>\n",
       "    <tr>\n",
       "      <th>6654</th>\n",
       "      <td>33.0</td>\n",
       "      <td>1</td>\n",
       "      <td>0</td>\n",
       "      <td>17</td>\n",
       "      <td>1</td>\n",
       "      <td>0</td>\n",
       "      <td>326</td>\n",
       "      <td>1</td>\n",
       "      <td>0.0</td>\n",
       "      <td>0.0</td>\n",
       "      <td>0.0</td>\n",
       "      <td>1.0</td>\n",
       "      <td>1.0</td>\n",
       "      <td>0.0</td>\n",
       "    </tr>\n",
       "    <tr>\n",
       "      <th>10076</th>\n",
       "      <td>30.0</td>\n",
       "      <td>1</td>\n",
       "      <td>0</td>\n",
       "      <td>-55</td>\n",
       "      <td>1</td>\n",
       "      <td>1</td>\n",
       "      <td>-1</td>\n",
       "      <td>0</td>\n",
       "      <td>0.0</td>\n",
       "      <td>0.0</td>\n",
       "      <td>0.0</td>\n",
       "      <td>1.0</td>\n",
       "      <td>1.0</td>\n",
       "      <td>0.0</td>\n",
       "    </tr>\n",
       "    <tr>\n",
       "      <th>7711</th>\n",
       "      <td>28.0</td>\n",
       "      <td>0</td>\n",
       "      <td>0</td>\n",
       "      <td>426</td>\n",
       "      <td>1</td>\n",
       "      <td>0</td>\n",
       "      <td>-1</td>\n",
       "      <td>0</td>\n",
       "      <td>0.0</td>\n",
       "      <td>0.0</td>\n",
       "      <td>0.0</td>\n",
       "      <td>0.0</td>\n",
       "      <td>0.0</td>\n",
       "      <td>1.0</td>\n",
       "    </tr>\n",
       "    <tr>\n",
       "      <th>2938</th>\n",
       "      <td>61.0</td>\n",
       "      <td>1</td>\n",
       "      <td>0</td>\n",
       "      <td>1146</td>\n",
       "      <td>0</td>\n",
       "      <td>0</td>\n",
       "      <td>92</td>\n",
       "      <td>2</td>\n",
       "      <td>0.0</td>\n",
       "      <td>0.0</td>\n",
       "      <td>0.0</td>\n",
       "      <td>1.0</td>\n",
       "      <td>1.0</td>\n",
       "      <td>0.0</td>\n",
       "    </tr>\n",
       "  </tbody>\n",
       "</table>\n",
       "</div>"
      ],
      "text/plain": [
       "        age  education  default  balance  housing  loan  pdays  previous  \\\n",
       "7511   34.0          1        0      -55        1     0     -1         0   \n",
       "6654   33.0          1        0       17        1     0    326         1   \n",
       "10076  30.0          1        0      -55        1     1     -1         0   \n",
       "7711   28.0          0        0      426        1     0     -1         0   \n",
       "2938   61.0          1        0     1146        0     0     92         2   \n",
       "\n",
       "       job_self-employed  job_student  job_unemployed  job_nan  \\\n",
       "7511                 0.0          0.0             0.0      1.0   \n",
       "6654                 0.0          0.0             0.0      1.0   \n",
       "10076                0.0          0.0             0.0      1.0   \n",
       "7711                 0.0          0.0             0.0      0.0   \n",
       "2938                 0.0          0.0             0.0      1.0   \n",
       "\n",
       "       marital_married  marital_single  \n",
       "7511               1.0             0.0  \n",
       "6654               1.0             0.0  \n",
       "10076              1.0             0.0  \n",
       "7711               0.0             1.0  \n",
       "2938               1.0             0.0  "
      ]
     },
     "execution_count": 83,
     "metadata": {},
     "output_type": "execute_result"
    }
   ],
   "source": [
    "print(\"Ejemplo de datos de prueba después de One-Hot Encoding:\")\n",
    "encoded_X_test.head()"
   ]
  },
  {
   "cell_type": "code",
   "execution_count": 15,
   "id": "fb8e6cdd-e6cf-4d09-89dc-6553ce87d8e7",
   "metadata": {},
   "outputs": [
    {
     "name": "stdout",
     "output_type": "stream",
     "text": [
      "Los datos de entrenamiento contienen 8929 filas, 17 características y 1 etiqueta.\n",
      "Los datos de prueba contienen 2233 filas, 17 características y 1 etiqueta.\n"
     ]
    }
   ],
   "source": [
    "print(f'Los datos de entrenamiento contienen {encoded_X_train.shape[0]} filas, {encoded_X_train.shape[1]} características y {Y_train.shape[1]} etiqueta.')\n",
    "print(f'Los datos de prueba contienen {encoded_X_test.shape[0]} filas, {encoded_X_test.shape[1]} características y {Y_test.shape[1]} etiqueta.')\n"
   ]
  },
  {
   "cell_type": "markdown",
   "id": "5ee173b3-b46b-4a82-8800-48411ff58d59",
   "metadata": {},
   "source": [
    "## 8º Estandarización de las Variables Numéricas:\n",
    "He decidido utilizar StandardScaler para la estandarización de las variables numéricas. Este método transforma los datos para que tengan una media de 0 y una desviación estándar de 1, lo que es especialmente útil cuando las características tienen diferentes escalas y magnitudes. \n"
   ]
  },
  {
   "cell_type": "code",
   "execution_count": 17,
   "id": "a29cb98c-ef30-4d01-9c4d-4e3fee133c58",
   "metadata": {},
   "outputs": [
    {
     "data": {
      "text/html": [
       "<div>\n",
       "<style scoped>\n",
       "    .dataframe tbody tr th:only-of-type {\n",
       "        vertical-align: middle;\n",
       "    }\n",
       "\n",
       "    .dataframe tbody tr th {\n",
       "        vertical-align: top;\n",
       "    }\n",
       "\n",
       "    .dataframe thead th {\n",
       "        text-align: right;\n",
       "    }\n",
       "</style>\n",
       "<table border=\"1\" class=\"dataframe\">\n",
       "  <thead>\n",
       "    <tr style=\"text-align: right;\">\n",
       "      <th></th>\n",
       "      <th>age</th>\n",
       "      <th>balance</th>\n",
       "      <th>pdays</th>\n",
       "      <th>previous</th>\n",
       "      <th>job_other</th>\n",
       "      <th>job_self-employed</th>\n",
       "      <th>job_service</th>\n",
       "      <th>job_student</th>\n",
       "      <th>job_unemployed</th>\n",
       "      <th>job_white-collar</th>\n",
       "      <th>job_nan</th>\n",
       "      <th>marital_married</th>\n",
       "      <th>marital_single</th>\n",
       "    </tr>\n",
       "  </thead>\n",
       "  <tbody>\n",
       "    <tr>\n",
       "      <th>2536</th>\n",
       "      <td>1.823905</td>\n",
       "      <td>-0.634594</td>\n",
       "      <td>0.611175</td>\n",
       "      <td>0.243147</td>\n",
       "      <td>-0.080154</td>\n",
       "      <td>-0.269356</td>\n",
       "      <td>-0.347083</td>\n",
       "      <td>-0.181908</td>\n",
       "      <td>-0.183218</td>\n",
       "      <td>-0.731606</td>\n",
       "      <td>3.657653</td>\n",
       "      <td>0.866478</td>\n",
       "      <td>-0.675375</td>\n",
       "    </tr>\n",
       "    <tr>\n",
       "      <th>8283</th>\n",
       "      <td>0.968317</td>\n",
       "      <td>2.854287</td>\n",
       "      <td>-0.508431</td>\n",
       "      <td>-0.484664</td>\n",
       "      <td>-0.080154</td>\n",
       "      <td>-0.269356</td>\n",
       "      <td>-0.347083</td>\n",
       "      <td>-0.181908</td>\n",
       "      <td>-0.183218</td>\n",
       "      <td>1.366856</td>\n",
       "      <td>-0.273399</td>\n",
       "      <td>0.866478</td>\n",
       "      <td>-0.675375</td>\n",
       "    </tr>\n",
       "    <tr>\n",
       "      <th>10439</th>\n",
       "      <td>1.633774</td>\n",
       "      <td>-0.759925</td>\n",
       "      <td>-0.508431</td>\n",
       "      <td>-0.484664</td>\n",
       "      <td>-0.080154</td>\n",
       "      <td>-0.269356</td>\n",
       "      <td>-0.347083</td>\n",
       "      <td>-0.181908</td>\n",
       "      <td>-0.183218</td>\n",
       "      <td>-0.731606</td>\n",
       "      <td>3.657653</td>\n",
       "      <td>-1.154097</td>\n",
       "      <td>-0.675375</td>\n",
       "    </tr>\n",
       "    <tr>\n",
       "      <th>2809</th>\n",
       "      <td>1.918970</td>\n",
       "      <td>2.854287</td>\n",
       "      <td>0.621638</td>\n",
       "      <td>0.243147</td>\n",
       "      <td>-0.080154</td>\n",
       "      <td>-0.269356</td>\n",
       "      <td>-0.347083</td>\n",
       "      <td>-0.181908</td>\n",
       "      <td>-0.183218</td>\n",
       "      <td>-0.731606</td>\n",
       "      <td>3.657653</td>\n",
       "      <td>0.866478</td>\n",
       "      <td>-0.675375</td>\n",
       "    </tr>\n",
       "    <tr>\n",
       "      <th>5590</th>\n",
       "      <td>-0.362598</td>\n",
       "      <td>-0.331161</td>\n",
       "      <td>-0.508431</td>\n",
       "      <td>-0.484664</td>\n",
       "      <td>-0.080154</td>\n",
       "      <td>-0.269356</td>\n",
       "      <td>-0.347083</td>\n",
       "      <td>-0.181908</td>\n",
       "      <td>-0.183218</td>\n",
       "      <td>1.366856</td>\n",
       "      <td>-0.273399</td>\n",
       "      <td>-1.154097</td>\n",
       "      <td>1.480658</td>\n",
       "    </tr>\n",
       "  </tbody>\n",
       "</table>\n",
       "</div>"
      ],
      "text/plain": [
       "            age   balance     pdays  previous  job_other  job_self-employed  \\\n",
       "2536   1.823905 -0.634594  0.611175  0.243147  -0.080154          -0.269356   \n",
       "8283   0.968317  2.854287 -0.508431 -0.484664  -0.080154          -0.269356   \n",
       "10439  1.633774 -0.759925 -0.508431 -0.484664  -0.080154          -0.269356   \n",
       "2809   1.918970  2.854287  0.621638  0.243147  -0.080154          -0.269356   \n",
       "5590  -0.362598 -0.331161 -0.508431 -0.484664  -0.080154          -0.269356   \n",
       "\n",
       "       job_service  job_student  job_unemployed  job_white-collar   job_nan  \\\n",
       "2536     -0.347083    -0.181908       -0.183218         -0.731606  3.657653   \n",
       "8283     -0.347083    -0.181908       -0.183218          1.366856 -0.273399   \n",
       "10439    -0.347083    -0.181908       -0.183218         -0.731606  3.657653   \n",
       "2809     -0.347083    -0.181908       -0.183218         -0.731606  3.657653   \n",
       "5590     -0.347083    -0.181908       -0.183218          1.366856 -0.273399   \n",
       "\n",
       "       marital_married  marital_single  \n",
       "2536          0.866478       -0.675375  \n",
       "8283          0.866478       -0.675375  \n",
       "10439        -1.154097       -0.675375  \n",
       "2809          0.866478       -0.675375  \n",
       "5590         -1.154097        1.480658  "
      ]
     },
     "execution_count": 17,
     "metadata": {},
     "output_type": "execute_result"
    }
   ],
   "source": [
    "# Importo StandardScaler de sklearn.preprocessing para estandarizar las variables.\n",
    "from sklearn.preprocessing import StandardScaler\n",
    "\n",
    "# Identifico las columnas numéricas en los conjuntos codificados de entrenamiento y prueba.\n",
    "numeric_columns = encoded_X_train.select_dtypes(include=['float64', 'int64']).columns.tolist()\n",
    "\n",
    "# Creo el objeto escalador\n",
    "scaler = StandardScaler()\n",
    "\n",
    "# Aplico la estandarización en el conjunto de entrenamiento y luego en el de prueba\n",
    "encoded_X_train[numeric_columns] = scaler.fit_transform(encoded_X_train[numeric_columns])\n",
    "encoded_X_test[numeric_columns] = scaler.transform(encoded_X_test[numeric_columns])\n",
    "\n",
    "# Visualizo los datos estandarizados en el conjunto de entrenamiento\n",
    "encoded_X_train[numeric_columns].head()\n"
   ]
  },
  {
   "cell_type": "markdown",
   "id": "75b3a7e1-08f0-49a2-b36b-7c58371ac258",
   "metadata": {},
   "source": [
    "Explicación del Resultado: En Age tomando como referencia los registros: 2536, 8283, 10439 teníamos :\n",
    "Edad (original): 60, 51, 58 \n",
    "Edad (estandarizado): 1.82, 0.96, 1.63 \n",
    "Los valores numéricos se centran y normalizan, asegurando que cada variable tenga una influencia similar en el modelo, por lo que se puede ver que el registro 8283 es el que se acerca más a la media porque está más próximo a 0 mientras que el registro 2536 con 1.82 es el que más se aleja.\n",
    "TENIENDO EN CUENTA QUE SOLO ESTAMOS TOMANDO ESTOS 3 REGISTROS PARA ESTA EXPLICACIÓN DE LOS RESULTADOS."
   ]
  },
  {
   "cell_type": "markdown",
   "id": "bb1dc6a1-fb36-4e2e-a7ab-35946ec144ab",
   "metadata": {},
   "source": [
    "## 9º Reviso la varianza por si alguna característica la tuviera muy baja para descartarla y así reducir ruido."
   ]
  },
  {
   "cell_type": "code",
   "execution_count": 19,
   "id": "34bebb3d-2e8f-4a0d-9a59-1e828a94b944",
   "metadata": {},
   "outputs": [
    {
     "name": "stdout",
     "output_type": "stream",
     "text": [
      "age                  1.323879e+03\n",
      "education            1.099275e+07\n",
      "default              1.606535e+03\n",
      "balance              4.306283e+02\n",
      "housing              1.453642e+06\n",
      "loan                 1.084390e+05\n",
      "pdays                8.107343e+02\n",
      "previous             4.909794e+02\n",
      "job_other            6.801886e+02\n",
      "job_self-employed    1.901324e+03\n",
      "job_service          4.463874e+02\n",
      "job_student          6.537544e+02\n",
      "job_unemployed       1.475442e+03\n",
      "job_white-collar     1.435434e+03\n",
      "job_nan              1.566765e+03\n",
      "marital_married      5.732125e+02\n",
      "marital_single       4.623025e+02\n",
      "dtype: float64\n"
     ]
    }
   ],
   "source": [
    "import pandas as pd\n",
    "\n",
    "# Calculo la varianza de cada columna (característica)\n",
    "varianza = cumulative_variance.var()\n",
    "\n",
    "# Imprimo los resultados\n",
    "print(varianza)"
   ]
  },
  {
   "cell_type": "markdown",
   "id": "9ff1be59-9c3d-46c1-b945-3d4577eef42f",
   "metadata": {},
   "source": [
    "* En este pundo me doy cuenta de que no tengo ninguna que esté por debajo del 1 así que confirmo que utilizo todas estas características como había pensado en un principio."
   ]
  },
  {
   "cell_type": "markdown",
   "id": "94a2eab3-102b-40bb-98b6-33ce3b1c137a",
   "metadata": {},
   "source": [
    "## 10º Paso a entrenar el modelo\n",
    "* He decidido hacer dos modelos uno de **Regresión Logística** y un **Random Forest** para comparar los resultados y quedarme con el que me de mejor resultado."
   ]
  },
  {
   "cell_type": "markdown",
   "id": "5a8d39e9-ae7c-4bb0-9a70-13f3490a9196",
   "metadata": {},
   "source": [
    "## - Entrenamiento con modelo **Random Forest**"
   ]
  },
  {
   "cell_type": "code",
   "execution_count": 61,
   "id": "1f43bf0a-5f74-4c65-a1f1-6dc0ec9c9e8b",
   "metadata": {},
   "outputs": [
    {
     "name": "stderr",
     "output_type": "stream",
     "text": [
      "C:\\Users\\javie\\anaconda3\\envs\\entorno_ML\\Lib\\site-packages\\sklearn\\base.py:1473: DataConversionWarning: A column-vector y was passed when a 1d array was expected. Please change the shape of y to (n_samples,), for example using ravel().\n",
      "  return fit_method(estimator, *args, **kwargs)\n"
     ]
    },
    {
     "name": "stdout",
     "output_type": "stream",
     "text": [
      "Accuracy: 0.6354679802955665\n"
     ]
    }
   ],
   "source": [
    "from sklearn.ensemble import RandomForestClassifier\n",
    "\n",
    "# Crear un modelo de Random Forest\n",
    "model = RandomForestClassifier(n_estimators=100, random_state=42)\n",
    "\n",
    "# Entrenar el modelo\n",
    "model.fit(encoded_X_train, Y_train)\n",
    "\n",
    "# Hago que el modelo efectúe predicciones\n",
    "Y_pred = model.predict(encoded_X_test)\n",
    "\n",
    "# Evaluo el modelo (usando accuracy)\n",
    "accuracy = accuracy_score(Y_test, Y_pred)\n",
    "print(\"Accuracy:\", accuracy)"
   ]
  },
  {
   "cell_type": "markdown",
   "id": "394e3ea4-3186-4f08-97f9-207559c6c274",
   "metadata": {},
   "source": [
    "## - Entrenamiento con **Modelo de Clasificación**"
   ]
  },
  {
   "cell_type": "code",
   "execution_count": 86,
   "id": "04141600-628f-49c2-84e8-9df4beed0835",
   "metadata": {},
   "outputs": [
    {
     "name": "stdout",
     "output_type": "stream",
     "text": [
      "Accuracy: 0.6462158531124048\n"
     ]
    },
    {
     "name": "stderr",
     "output_type": "stream",
     "text": [
      "C:\\Users\\javie\\anaconda3\\envs\\entorno_ML\\Lib\\site-packages\\sklearn\\utils\\validation.py:1339: DataConversionWarning: A column-vector y was passed when a 1d array was expected. Please change the shape of y to (n_samples, ), for example using ravel().\n",
      "  y = column_or_1d(y, warn=True)\n",
      "C:\\Users\\javie\\anaconda3\\envs\\entorno_ML\\Lib\\site-packages\\sklearn\\linear_model\\_logistic.py:469: ConvergenceWarning: lbfgs failed to converge (status=1):\n",
      "STOP: TOTAL NO. of ITERATIONS REACHED LIMIT.\n",
      "\n",
      "Increase the number of iterations (max_iter) or scale the data as shown in:\n",
      "    https://scikit-learn.org/stable/modules/preprocessing.html\n",
      "Please also refer to the documentation for alternative solver options:\n",
      "    https://scikit-learn.org/stable/modules/linear_model.html#logistic-regression\n",
      "  n_iter_i = _check_optimize_result(\n"
     ]
    }
   ],
   "source": [
    "from sklearn.linear_model import LogisticRegression\n",
    "from sklearn.metrics import accuracy_score\n",
    "\n",
    "# Creo un modelo de regresión logística\n",
    "model = LogisticRegression()\n",
    "\n",
    "# Entreno el modelo\n",
    "model.fit(encoded_X_train, Y_train)\n",
    "\n",
    "# Hago que el modelo efectúe predicciones\n",
    "Y_pred = model.predict(encoded_X_test)\n",
    "\n",
    "# Evaluo el modelo (usando accuracy)\n",
    "accuracy = accuracy_score(Y_test, Y_pred)\n",
    "print(\"Accuracy:\", accuracy)"
   ]
  },
  {
   "cell_type": "markdown",
   "id": "f493c3a6-d0a9-47a9-8d05-e0d663611b16",
   "metadata": {},
   "source": [
    "* Depues de ver el desempeño de los modelos en los que he analizado la **exactitud** como métrica de evaluación para ambos me voy a quedar con el **Modelo de Clasificación** que es el que me da un resultado ligeramente mejor ."
   ]
  },
  {
   "cell_type": "markdown",
   "id": "61cedc19-0354-4175-82b7-7d5f5dfa6106",
   "metadata": {},
   "source": [
    "## 11º Evaluo el desempeño del modelo :\n",
    "* Matríz de Confusión:"
   ]
  },
  {
   "cell_type": "code",
   "execution_count": 78,
   "id": "65047560-d9af-4a57-8d0e-a896acc2c0ef",
   "metadata": {},
   "outputs": [
    {
     "data": {
      "image/png": "[encoded data removed]",
      "text/plain": [
       "<Figure size 640x480 with 2 Axes>"
      ]
     },
     "metadata": {},
     "output_type": "display_data"
    }
   ],
   "source": [
    "from sklearn.metrics import confusion_matrix\n",
    "import seaborn as sns\n",
    "import matplotlib.pyplot as plt\n",
    "\n",
    "# Calcular la matriz de confusión\n",
    "cm = confusion_matrix(Y_test, Y_pred)\n",
    "\n",
    "# Crear un heatmap para visualizar la matriz\n",
    "sns.heatmap(cm, annot=True, fmt='d', cmap='Blues')\n",
    "plt.xlabel('Predicciones')\n",
    "plt.ylabel('Valores Reales')\n",
    "plt.title('Matriz de Confusión')\n",
    "plt.show()"
   ]
  },
  {
   "cell_type": "markdown",
   "id": "fb20016c-3c69-4e9d-be91-31816cd4e8f2",
   "metadata": {},
   "source": [
    "* En este caso podemos ver que la matríz de confusión dice que el modelo ha detectado 813 verdaderos negativos y 630 verdaderos positivos.\n",
    "* Esto equivale al 64.62% de exactitud en las predicciones que puede hacer el modelo."
   ]
  },
  {
   "cell_type": "markdown",
   "id": "ee40932e-77e9-4cdc-85df-2a3db91c004e",
   "metadata": {},
   "source": [
    "* Precisión: El modelo ha clasificado correctamente aproximadamente el 64% de todas las instancias."
   ]
  },
  {
   "cell_type": "code",
   "execution_count": 79,
   "id": "4bdf610d-fb00-4340-8809-9ff4c2eb9a58",
   "metadata": {},
   "outputs": [
    {
     "name": "stdout",
     "output_type": "stream",
     "text": [
      "0.6350806451612904\n"
     ]
    }
   ],
   "source": [
    "from sklearn.metrics import precision_score\n",
    "\n",
    "precision = precision_score(Y_test, Y_pred)\n",
    "print(precision)"
   ]
  },
  {
   "cell_type": "markdown",
   "id": "9bb3bc63-1bef-49b9-9501-b5eac2eb16a8",
   "metadata": {},
   "source": [
    "* Sensibilidad (Recall): Indica que el modelo tiene la capacidad de identificar correctamente cerca al 60% de los casos positivos."
   ]
  },
  {
   "cell_type": "code",
   "execution_count": 80,
   "id": "4110a08b-c6e9-4129-bb9b-810d217cc953",
   "metadata": {},
   "outputs": [
    {
     "name": "stdout",
     "output_type": "stream",
     "text": [
      "Sensibilidad: 0.5954631379962193\n"
     ]
    }
   ],
   "source": [
    "from sklearn.metrics import recall_score\n",
    "\n",
    "sensitivity = recall_score(Y_test, Y_pred)\n",
    "print(\"Sensibilidad:\", sensitivity)"
   ]
  },
  {
   "cell_type": "markdown",
   "id": "e441aba4-78d9-487b-bfcf-2bbd5fca7334",
   "metadata": {},
   "source": [
    "* El F1-Score mide el equilibrio entre la precisión y el recall del modelo, ofreciendo una evaluación más completa de su rendimiento."
   ]
  },
  {
   "cell_type": "code",
   "execution_count": 81,
   "id": "e2e4c958-709c-474c-b513-ee759ce86441",
   "metadata": {},
   "outputs": [
    {
     "name": "stdout",
     "output_type": "stream",
     "text": [
      "F1-score: 0.6146341463414634\n"
     ]
    }
   ],
   "source": [
    "from sklearn.metrics import f1_score\n",
    "\n",
    "f1 = f1_score(Y_test, Y_pred)\n",
    "print(\"F1-score:\", f1)"
   ]
  },
  {
   "cell_type": "markdown",
   "id": "14701508-4d4e-4b3a-b997-eeff0009e5f2",
   "metadata": {},
   "source": [
    "## 12º Modificar Hiperparámetros para buscar rango de mejora."
   ]
  },
  {
   "cell_type": "code",
   "execution_count": 75,
   "id": "ba93a29f-e929-4e7f-8b4b-4c58bb79122d",
   "metadata": {},
   "outputs": [
    {
     "name": "stdout",
     "output_type": "stream",
     "text": [
      "Fitting 10 folds for each of 84 candidates, totalling 840 fits\n",
      "Mejores parámetros: {'C': 100, 'max_iter': 100, 'penalty': 'l1', 'solver': 'liblinear'}\n",
      "Mejor puntuación (accuracy): 0.6511356389255746\n",
      "Accuracy en test: 0.64576802507837\n"
     ]
    },
    {
     "name": "stderr",
     "output_type": "stream",
     "text": [
      "C:\\Users\\javie\\anaconda3\\envs\\entorno_ML\\Lib\\site-packages\\sklearn\\utils\\validation.py:1339: DataConversionWarning: A column-vector y was passed when a 1d array was expected. Please change the shape of y to (n_samples, ), for example using ravel().\n",
      "  y = column_or_1d(y, warn=True)\n"
     ]
    }
   ],
   "source": [
    "from sklearn.linear_model import LogisticRegression\n",
    "from sklearn.model_selection import GridSearchCV\n",
    "from sklearn.metrics import accuracy_score\n",
    "\n",
    "# Definir el modelo base\n",
    "model = LogisticRegression(max_iter=1000, random_state=42)\n",
    "\n",
    "# Definir los hiperparámetros a ajustar\n",
    "param_grid = {\n",
    "    'C': [0.001, 0.01, 0.1, 1, 10, 100, 1000],  # Mayor rango de regularización\n",
    "    'penalty': ['l1', 'l2'],  # Considera solo penalizaciones prácticas\n",
    "    'solver': ['liblinear', 'saga'],  # Solvers más comunes\n",
    "    'max_iter': [100, 500, 1000]  # Iteraciones para optimización\n",
    "}\n",
    "\n",
    "# Configurar GridSearchCV con 10-Fold Cross-Validation\n",
    "grid_search = GridSearchCV(estimator=model, param_grid=param_grid,\n",
    "                           scoring='accuracy', cv=10, verbose=2, n_jobs=-1)\n",
    "\n",
    "# Ejecutar la búsqueda de hiperparámetros\n",
    "grid_search.fit(encoded_X_train, Y_train)\n",
    "\n",
    "# Obtener los mejores parámetros y resultados\n",
    "print(\"Mejores parámetros:\", grid_search.best_params_)\n",
    "print(\"Mejor puntuación (accuracy):\", grid_search.best_score_)\n",
    "\n",
    "# Evaluar el modelo en el conjunto de prueba\n",
    "best_model = grid_search.best_estimator_\n",
    "Y_pred = best_model.predict(encoded_X_test)\n",
    "\n",
    "# Calcular la precisión en el conjunto de prueba\n",
    "accuracy = accuracy_score(Y_test, Y_pred)\n",
    "print(\"Accuracy en test:\", accuracy)\n"
   ]
  },
  {
   "cell_type": "markdown",
   "id": "4293fb58-1c97-4c06-91f2-d7b5812c2d94",
   "metadata": {},
   "source": [
    "## Veo que el modelo que había seleccionado que era el de Clasificación me daba un accuracy de 64.62% y si no interpreto mal el resultado del codigo modificando los hiperparámetros me da un accuracy de 64.57% y podría mejorar hasta un 65.11% lo cual es casi el mismo valor que el accuracy que había obtenido inicalmente con el modelo por lo que lo dejaré como estaba."
   ]
  },
  {
   "cell_type": "markdown",
   "id": "7c8587b7-76ad-4555-bbe6-9b8539d6da48",
   "metadata": {},
   "source": [
    "## 13º Ejecuto un codigo completo que me haga el entrenamiento del **Modelo de Clasificación** y que me lo evalúe con el accuracy.\n",
    "* Además creo un DF con las características y sus coeficientes para poder hacer la interpretación final del proyecto."
   ]
  },
  {
   "cell_type": "code",
   "execution_count": 92,
   "id": "f7321e98-5293-4ab8-8f83-6670492ac396",
   "metadata": {},
   "outputs": [
    {
     "name": "stderr",
     "output_type": "stream",
     "text": [
      "C:\\Users\\javie\\anaconda3\\envs\\entorno_ML\\Lib\\site-packages\\sklearn\\utils\\validation.py:1339: DataConversionWarning: A column-vector y was passed when a 1d array was expected. Please change the shape of y to (n_samples, ), for example using ravel().\n",
      "  y = column_or_1d(y, warn=True)\n",
      "C:\\Users\\javie\\anaconda3\\envs\\entorno_ML\\Lib\\site-packages\\sklearn\\linear_model\\_logistic.py:469: ConvergenceWarning: lbfgs failed to converge (status=1):\n",
      "STOP: TOTAL NO. of ITERATIONS REACHED LIMIT.\n",
      "\n",
      "Increase the number of iterations (max_iter) or scale the data as shown in:\n",
      "    https://scikit-learn.org/stable/modules/preprocessing.html\n",
      "Please also refer to the documentation for alternative solver options:\n",
      "    https://scikit-learn.org/stable/modules/linear_model.html#logistic-regression\n",
      "  n_iter_i = _check_optimize_result(\n"
     ]
    },
    {
     "name": "stdout",
     "output_type": "stream",
     "text": [
      "Accuracy: 0.6462158531124048\n",
      "\n",
      "Coeficientes del modelo:\n",
      "              Feature  Coefficient\n",
      "4             housing    -0.813674\n",
      "5                loan    -0.525801\n",
      "9         job_student     0.353569\n",
      "7            previous     0.252491\n",
      "12    marital_married    -0.212029\n",
      "10     job_unemployed     0.176750\n",
      "1           education     0.127790\n",
      "8   job_self-employed    -0.127050\n",
      "13     marital_single     0.092948\n",
      "2             default    -0.058221\n",
      "11            job_nan     0.038525\n",
      "0                 age     0.001665\n",
      "6               pdays     0.001031\n",
      "3             balance     0.000115\n"
     ]
    },
    {
     "data": {
      "image/png": "[encoded data removed]",
      "text/plain": [
       "<Figure size 1000x600 with 1 Axes>"
      ]
     },
     "metadata": {},
     "output_type": "display_data"
    }
   ],
   "source": [
    "from sklearn.linear_model import LogisticRegression\n",
    "from sklearn.metrics import accuracy_score\n",
    "import pandas as pd\n",
    "import matplotlib.pyplot as plt\n",
    "import numpy as np\n",
    "\n",
    "# Creo un modelo de regresión logística\n",
    "model = LogisticRegression()\n",
    "\n",
    "# Entreno el modelo\n",
    "model.fit(encoded_X_train, Y_train)\n",
    "\n",
    "# Hago que el modelo efectúe predicciones\n",
    "Y_pred = model.predict(encoded_X_test)\n",
    "\n",
    "# Evaluo el modelo (usando accuracy)\n",
    "accuracy = accuracy_score(Y_test, Y_pred)\n",
    "print(\"Accuracy:\", accuracy)\n",
    "\n",
    "# Obtener los coeficientes del modelo\n",
    "coeficientes = model.coef_[0]  # Para regresión logística binaria\n",
    "\n",
    "# Crear un DataFrame con las características y sus coeficientes\n",
    "features = encoded_X_train.columns if hasattr(encoded_X_train, 'columns') else [f'feature_{i}' for i in range(encoded_X_train.shape[1])]\n",
    "coef_df = pd.DataFrame({\n",
    "    'Feature': features,\n",
    "    'Coefficient': coeficientes\n",
    "})\n",
    "\n",
    "# Ordenar por valor absoluto de los coeficientes (opcional, para mejor visualización)\n",
    "coef_df = coef_df.reindex(coef_df['Coefficient'].abs().sort_values(ascending=False).index)\n",
    "\n",
    "# Imprimir los coeficientes\n",
    "print(\"\\nCoeficientes del modelo:\")\n",
    "print(coef_df)\n",
    "\n",
    "# Visualizar los coeficientes\n",
    "plt.figure(figsize=(10, 6))\n",
    "plt.barh(coef_df['Feature'], coef_df['Coefficient'], color='b', alpha=0.7)\n",
    "plt.xlabel('Coefficient Value')\n",
    "plt.ylabel('Feature')\n",
    "plt.title('Feature Importance in Logistic Regression')\n",
    "plt.gca().invert_yaxis()  # Invertir eje Y para mejor lectura\n",
    "plt.tight_layout()\n",
    "plt.show()\n"
   ]
  },
  {
   "cell_type": "markdown",
   "id": "ef354112-91e4-493b-a90a-3684f657ce04",
   "metadata": {},
   "source": [
    "# **CONCLUSIONES**\n",
    "\n",
    "Este proyecto fue diseñado para ayudar a la entidad bancaria a identificar estrategias efectivas para aumentar la contratación de depósitos a plazo. Después de analizar los datos de los clientes y desarrollar un modelo de Machine Learning, se obtuvieron los siguientes resultados y recomendaciones:\n",
    "\n",
    "1. **Resultados clave del modelo:**\n",
    "   - El modelo alcanzó una precisión (accuracy) del 64.62%, lo que sugiere un desempeño moderado. Aunque puede usarse para identificar patrones generales, no es lo suficientemente robusto para decisiones críticas sin un análisis adicional.\n",
    "   - Los coeficientes del modelo indican que las características más influyentes son:\n",
    "     - **Vivienda (housing):** Los clientes sin hipoteca tienen una mayor probabilidad de contratar el producto.\n",
    "     - **Préstamos personales (loan):** Los clientes sin deudas también son más propensos a aceptar la oferta.\n",
    "     - **Ocupación (job_student):** Los estudiantes representan un segmento favorable.\n",
    "     - **Contactos previos (previous):** Un historial positivo de contactos incrementa las posibilidades de conversión.\n",
    "\n",
    "2. **Recomendaciones para la entidad bancaria:**\n",
    "   - **Segmentación por perfil financiero:** \n",
    "     - Dirigir la campaña a clientes que no tengan hipotecas o préstamos pendientes.\n",
    "   - **Enfoque en estudiantes:** \n",
    "     - Establecer estrategias para captar estudiantes, quienes han mostrado una alta probabilidad de conversión.\n",
    "   - **Contactos estratégicos:**\n",
    "     - Priorizar clientes que no han sido contactados recientemente, ya que podrían ser más receptivos.\n",
    "   - **Estrategias basadas en estado civil:**\n",
    "     - Considerar el estado civil como un factor, ya que los solteros muestran mayor predisposición que los casados.\n",
    "\n",
    "Estas conclusiones pueden servir como base para desarrollar un proyecto de marketing dirigido a estos segmentos clave, incrementando así las conversiones y mejorando el éxito del producto en el mercado.\n"
   ]
  }
 ],
 "metadata": {
  "kernelspec": {
   "display_name": "Python 3 (ipykernel)",
   "language": "python",
   "name": "python3"
  },
  "language_info": {
   "codemirror_mode": {
    "name": "ipython",
    "version": 3
   },
   "file_extension": ".py",
   "mimetype": "text/x-python",
   "name": "python",
   "nbconvert_exporter": "python",
   "pygments_lexer": "ipython3",
   "version": "3.12.5"
  }
 },
 "nbformat": 4,
 "nbformat_minor": 5
}
