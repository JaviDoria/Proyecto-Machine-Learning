{
 "cells": [
  {
   "cell_type": "markdown",
   "id": "97e00dcf-380b-44c4-bbc6-caaa16e7e3ff",
   "metadata": {},
   "source": [
    "# ESTO ES UN TÍTULO\n",
    "## SEGUNDO TÍTULO\n",
    "### TERCER TÍTULO\n",
    "#### CUARTO TÍTULO"
   ]
  },
  {
   "cell_type": "markdown",
   "id": "41af43d6-2190-4ed0-afa6-1844c1ed7c07",
   "metadata": {},
   "source": [
    "**NEGRITA**  "
   ]
  },
  {
   "cell_type": "markdown",
   "id": "457378c3-d3b2-4225-8f3c-382fb1392667",
   "metadata": {},
   "source": [
    "*CURSIVA*"
   ]
  },
  {
   "cell_type": "markdown",
   "id": "1f87e414-d2d4-4485-8b51-40d198cba48c",
   "metadata": {},
   "source": [
    "***Texto en cursiva y negrita***"
   ]
  },
  {
   "cell_type": "markdown",
   "id": "c1401a2a-930c-4856-ae48-48e59f14ece8",
   "metadata": {},
   "source": [
    "~~TACHADO~~"
   ]
  },
  {
   "cell_type": "markdown",
   "id": "d5db367b-a375-4e0e-a6fb-2bc9db8a4b5e",
   "metadata": {},
   "source": [
    "- LISTA DESORDENADA\n",
    "- CONTINUA LISTA\n",
    "- CONTINUA"
   ]
  },
  {
   "cell_type": "markdown",
   "id": "b7b56f2d-f9d9-428e-a66a-ae13664a1792",
   "metadata": {},
   "source": [
    "1. LISTA ORDENADA\n",
    "2. SEGUNDO PUENTO\n",
    "3. TERCER PUNTO"
   ]
  },
  {
   "cell_type": "markdown",
   "id": "943de071-864a-4780-b8f0-f4ee6e2f8b21",
   "metadata": {},
   "source": [
    "![Descripción de la imagen](https://wallup.net/wp-content/uploads/2016/05/14/35510-Neon_Genesis_Evangelion-EVA_Unit_01-anime.jpg)\n"
   ]
  }
 ],
 "metadata": {
  "kernelspec": {
   "display_name": "Python 3 (ipykernel)",
   "language": "python",
   "name": "python3"
  },
  "language_info": {
   "codemirror_mode": {
    "name": "ipython",
    "version": 3
   },
   "file_extension": ".py",
   "mimetype": "text/x-python",
   "name": "python",
   "nbconvert_exporter": "python",
   "pygments_lexer": "ipython3",
   "version": "3.12.5"
  }
 },
 "nbformat": 4,
 "nbformat_minor": 5
}
